{
 "cells": [
  {
   "cell_type": "markdown",
   "id": "5862e018",
   "metadata": {
    "scrolled": true
   },
   "source": [
    "# Example Fitting with ADCG"
   ]
  },
  {
   "cell_type": "markdown",
   "id": "2fd7d5db",
   "metadata": {},
   "source": [
    "To run this notebook on Google Colab, you will need to change to a Julia runtime environment. To do that select from the drop down menu:\n",
    "\n",
    "Runtime > Change runtime type\n",
    "\n",
    "In the \"Change runtime type\"  prompt window, select \"Julia\" (not Julia X.XX.XX) from the Runtime type drop-down menu. Click Save."
   ]
  },
  {
   "cell_type": "markdown",
   "id": "f63df02f",
   "metadata": {},
   "source": [
    "This example uses images from the 561 channel in position 4 of replicate 2, to be consistent with the companion packages."
   ]
  },
  {
   "cell_type": "code",
   "execution_count": null,
   "id": "fcd627ee",
   "metadata": {},
   "outputs": [],
   "source": [
    "using Pkg\n",
    "Pkg.add(\"Plots\");\n",
    "Pkg.add(\"FileIO\");\n",
    "Pkg.add(\"Images\");\n",
    "Pkg.add(\"HTTP\");\n",
    "Pkg.add(\"CSV\");\n",
    "Pkg.add(url=\"https://github.com/CaiGroup/SeqFISH_ADCG.jl\");"
   ]
  },
  {
   "cell_type": "code",
   "execution_count": null,
   "id": "63e1cf14",
   "metadata": {
    "scrolled": true
   },
   "outputs": [],
   "source": [
    "using Plots\n",
    "using SeqFISH_ADCG\n",
    "using FileIO\n",
    "using Images\n",
    "using CSV\n",
    "using HTTP"
   ]
  },
  {
   "cell_type": "markdown",
   "id": "6fd99584",
   "metadata": {},
   "source": [
    "Load example data"
   ]
  },
  {
   "cell_type": "code",
   "execution_count": null,
   "id": "d818b285",
   "metadata": {},
   "outputs": [],
   "source": [
    "ro_img = load(HTTP.URI(\"https://raw.githubusercontent.com/CaiGroup/SeqFISH_ADCG.jl/master/example_data/ro_preprocessed.png\"))\n",
    "ro_img = reinterpret.(UInt16, channelview(ro_img));"
   ]
  },
  {
   "cell_type": "markdown",
   "id": "477a3cea",
   "metadata": {},
   "source": [
    "Set Parameters"
   ]
  },
  {
   "cell_type": "code",
   "execution_count": null,
   "id": "3b50f04c",
   "metadata": {},
   "outputs": [],
   "source": [
    "sigma_lb = 0.87\n",
    "sigma_ub = 1.22\n",
    "tau = 2.0*10^12\n",
    "final_loss_improvement = 1000.0\n",
    "min_weight = 800.0\n",
    "max_iters = 200\n",
    "max_cd_iters = 20\n",
    "threshold = 0.0;"
   ]
  },
  {
   "cell_type": "markdown",
   "id": "568716e4",
   "metadata": {},
   "source": [
    "For expediancy of the demonstration, we will choose a small example tile to run ADCG on"
   ]
  },
  {
   "cell_type": "code",
   "execution_count": null,
   "id": "636cc2b4",
   "metadata": {},
   "outputs": [],
   "source": [
    "example_tile = ro_img[1020:1080, 1220:1280]\n",
    "heatmap(example_tile)"
   ]
  },
  {
   "cell_type": "markdown",
   "id": "fe0948b9",
   "metadata": {},
   "source": [
    "Now we run ADCG on the tile sample tile"
   ]
  },
  {
   "cell_type": "code",
   "execution_count": null,
   "id": "789fbed6",
   "metadata": {},
   "outputs": [],
   "source": [
    "inputs = (example_tile, sigma_lb, sigma_ub, threshold, tau, final_loss_improvement, min_weight, max_iters, max_cd_iters, \"ADCG\")\n",
    "ps = fit_tile(inputs)\n",
    "heatmap(example_tile)\n",
    "scatter!(ps.last_iteration.x, ps.last_iteration.y)"
   ]
  },
  {
   "cell_type": "markdown",
   "id": "3845f2f5",
   "metadata": {},
   "source": [
    "ADCG appears to pick up all of the dots. It may have a few extra, but it better to tune the parameters such that too many dots are picked up than too few because [SeqFISHSyndromeDecoding](https://github.com/CaiGroup/SeqFISHSyndromeDecoding) is very effective at discarding bad dots."
   ]
  },
  {
   "cell_type": "markdown",
   "id": "2d4615cd",
   "metadata": {},
   "source": [
    "Running ADCG on a whole image requires breaking up the image into overlapping tiles, running ADCG on each tile, and piecing the tiles back together. All of the Cai Lab's microscopes use 2048X2048 cameras, so SeqFISH_ADCG comes with a special function, ```fit_2048x2048_img_tiles```, that breaks 2048 images up into tiles. (Warning: this function will take a few hours)"
   ]
  },
  {
   "cell_type": "code",
   "execution_count": null,
   "id": "42fc8640",
   "metadata": {},
   "outputs": [],
   "source": [
    "points_with_duplicates, records = fit_2048x2048_img_tiles(ro_img, sigma_lb, sigma_ub, tau, final_loss_improvement, min_weight, max_iters, max_cd_iters, threshold, fit_alg=\"ADCG\");"
   ]
  },
  {
   "cell_type": "code",
   "execution_count": null,
   "id": "189e327f",
   "metadata": {},
   "outputs": [],
   "source": [
    "println(first(points_with_duplicates, 5))"
   ]
  },
  {
   "cell_type": "markdown",
   "id": "ba5665e3",
   "metadata": {},
   "source": [
    "If you have images that are not of 2048x2048 pixels, you will need to use ```fit_img_tiles```, which ```fit_2048x2048_img_tiles``` wraps, and specify your own tile and overlap size. For example ```fit_2048x2048_img_tiles``` calls (again taking hours):"
   ]
  },
  {
   "cell_type": "code",
   "execution_count": null,
   "id": "a08c8c0a",
   "metadata": {},
   "outputs": [],
   "source": [
    "tile_width = 64\n",
    "tile_overlap = 6\n",
    "\n",
    "points_with_duplicates2, records = fit_img_tiles(ro_img, tile_width, tile_overlap, sigma_lb, sigma_ub, tau, final_loss_improvement, min_weight, max_iters, max_cd_iters, threshold, fit_alg=\"ADCG\")"
   ]
  },
  {
   "cell_type": "code",
   "execution_count": null,
   "id": "677d01dd",
   "metadata": {},
   "outputs": [],
   "source": [
    "println(first(points_with_duplicates2, 5))"
   ]
  },
  {
   "cell_type": "markdown",
   "id": "f31848a0",
   "metadata": {},
   "source": [
    "You will need to ensure that the width and height of your image is divisible by ```tile_width```.\n",
    "\n",
    "The next step is that you will need to remove dots that are too close to each other. This removes duplicates that are in the overlapping regions of the tiles, or may have just been fit twice by ADCG"
   ]
  },
  {
   "cell_type": "code",
   "execution_count": null,
   "id": "09da8b50",
   "metadata": {},
   "outputs": [],
   "source": [
    "min_allowed_separation=2.0\n",
    "points = remove_duplicates(points_with_duplicates, ro_img, sigma_lb, sigma_ub, tau, threshold, min_allowed_separation)\n",
    "first(points, 5)"
   ]
  },
  {
   "cell_type": "code",
   "execution_count": null,
   "id": "d841111d",
   "metadata": {},
   "outputs": [],
   "source": [
    "println(first(points, 5))"
   ]
  },
  {
   "cell_type": "code",
   "execution_count": null,
   "id": "19a17d58",
   "metadata": {},
   "outputs": [],
   "source": [
    "CSV.write(\"example_fit.csv\", points)"
   ]
  }
 ],
 "metadata": {
  "kernelspec": {
   "display_name": "Julia 1.7.3",
   "language": "julia",
   "name": "julia-1.7"
  },
  "language_info": {
   "file_extension": ".jl",
   "mimetype": "application/julia",
   "name": "julia",
   "version": "1.7.3"
  }
 },
 "nbformat": 4,
 "nbformat_minor": 5
}
